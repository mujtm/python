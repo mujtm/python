{
  "nbformat": 4,
  "nbformat_minor": 0,
  "metadata": {
    "colab": {
      "provenance": [],
      "include_colab_link": true
    },
    "kernelspec": {
      "name": "python3",
      "display_name": "Python 3"
    },
    "language_info": {
      "name": "python"
    }
  },
  "cells": [
    {
      "cell_type": "markdown",
      "metadata": {
        "id": "view-in-github",
        "colab_type": "text"
      },
      "source": [
        "<a href=\"https://colab.research.google.com/github/mujtm/python/blob/main/dsa_practice.ipynb\" target=\"_parent\"><img src=\"https://colab.research.google.com/assets/colab-badge.svg\" alt=\"Open In Colab\"/></a>"
      ]
    },
    {
      "cell_type": "code",
      "source": [
        "# Day 1:  09/27/2022"
      ],
      "metadata": {
        "id": "nDRFu0eCh-JP"
      },
      "execution_count": null,
      "outputs": []
    },
    {
      "cell_type": "code",
      "execution_count": null,
      "metadata": {
        "colab": {
          "base_uri": "https://localhost:8080/"
        },
        "id": "7evyZGjsgkxD",
        "outputId": "b42895f0-1220-4cb5-a58a-d00f9ef83402"
      },
      "outputs": [
        {
          "output_type": "stream",
          "name": "stdout",
          "text": [
            "5\n"
          ]
        }
      ],
      "source": [
        "# Problem 1: Absolute value\n",
        "\n",
        "def absoluteValue(number):\n",
        "    if number >=0:\n",
        "        return number\n",
        "    else:\n",
        "        return -1 * number\n",
        "\n",
        "\n",
        "value = absoluteValue(-5)\n",
        "print(value)"
      ]
    },
    {
      "cell_type": "code",
      "source": [
        "# Problem 2: Celsius to Fahrenheit\n",
        "\n",
        "def celsiusToFahrenheit(celsius):\n",
        "    fahrenheit = 9/5 * celsius + 32\n",
        "    return fahrenheit\n",
        "\n",
        "fahrenheit = celsiusToFahrenheit(37)\n",
        "print(fahrenheit)"
      ],
      "metadata": {
        "colab": {
          "base_uri": "https://localhost:8080/"
        },
        "id": "OSYJ3icHgqak",
        "outputId": "b6042276-87b0-4e4a-f891-eba0e96a5ceb"
      },
      "execution_count": null,
      "outputs": [
        {
          "output_type": "stream",
          "name": "stdout",
          "text": [
            "98.60000000000001\n"
          ]
        }
      ]
    },
    {
      "cell_type": "code",
      "source": [
        "# Problem 3: Quadratic Equation\n",
        "\n"
      ],
      "metadata": {
        "id": "cdUU4kTSjFuD"
      },
      "execution_count": null,
      "outputs": []
    },
    {
      "cell_type": "code",
      "source": [
        "# Problem 4: Factorial of a number\n",
        "\n",
        "def factorial(number):\n",
        "    factorial_value = 1\n",
        "    while number > 1:\n",
        "        factorial_value = factorial_value * number\n",
        "        number -= 1\n",
        "    return factorial_value\n",
        "\n",
        "factorial_value = factorial(10)\n",
        "print(factorial_value)"
      ],
      "metadata": {
        "colab": {
          "base_uri": "https://localhost:8080/"
        },
        "id": "pDMCFeMejF4z",
        "outputId": "2e6895ae-40a0-4e95-8f14-bd7ac1a902b0"
      },
      "execution_count": null,
      "outputs": [
        {
          "output_type": "stream",
          "name": "stdout",
          "text": [
            "3628800\n"
          ]
        }
      ]
    },
    {
      "cell_type": "code",
      "source": [
        "# Problem 5: Digits in Factorial\n"
      ],
      "metadata": {
        "id": "eqvGviaKgxZF"
      },
      "execution_count": null,
      "outputs": []
    },
    {
      "cell_type": "code",
      "source": [],
      "metadata": {
        "id": "mHo_rft34f9y"
      },
      "execution_count": null,
      "outputs": []
    },
    {
      "cell_type": "code",
      "source": [
        "# Day 2:  09/27/2022"
      ],
      "metadata": {
        "id": "_ANg0lUf22fF"
      },
      "execution_count": null,
      "outputs": []
    },
    {
      "cell_type": "code",
      "source": [
        "# Problem 1: Recursion: Fibonacci\n"
      ],
      "metadata": {
        "id": "b_Lvn-cA3oFN"
      },
      "execution_count": null,
      "outputs": []
    },
    {
      "cell_type": "code",
      "source": [
        "# Problem 2: Recursion: Tower of hanoi\n"
      ],
      "metadata": {
        "id": "eJQm_YDL4Hms"
      },
      "execution_count": null,
      "outputs": []
    },
    {
      "cell_type": "code",
      "source": [
        "# Problem 3: Array: Max & second max\n"
      ],
      "metadata": {
        "id": "x8mfIsPo4IAb"
      },
      "execution_count": null,
      "outputs": []
    },
    {
      "cell_type": "code",
      "source": [
        "# Problem 4: Array: Mean & Median of Array\n"
      ],
      "metadata": {
        "id": "LWq_5WjZ4IW6"
      },
      "execution_count": null,
      "outputs": []
    },
    {
      "cell_type": "code",
      "source": [
        "# Problem 5: Array: insert at index\n"
      ],
      "metadata": {
        "id": "Sg9idSq64IrD"
      },
      "execution_count": null,
      "outputs": []
    }
  ]
}